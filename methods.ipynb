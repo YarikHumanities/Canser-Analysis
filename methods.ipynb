{
 "cells": [
  {
   "cell_type": "code",
   "execution_count": 106,
   "metadata": {},
   "outputs": [],
   "source": [
    "import pandas as pd \n",
    "import matplotlib.pyplot as plt\n",
    "import numpy as np\n",
    "\n",
    "def getDataset():\n",
    "    data = pd.read_csv('Export.csv',sep=',',encoding='cp1252')\n",
    "    return data\n",
    "\n",
    "dataset = getDataset()"
   ]
  },
  {
   "cell_type": "code",
   "execution_count": 107,
   "metadata": {},
   "outputs": [
    {
     "name": "stdout",
     "output_type": "stream",
     "text": [
      "#1 test - Kolmagorov-Smirnov test,\n",
      "#2 test - Pearson test\n",
      "\n",
      "ratio:          #1 test - False, #2 test - False;\n",
      "gdp:            #1 test - False, #2 test - False;\n",
      "population:     #1 test - False, #2 test - False;\n",
      "sales_of_cigarettes_per_adult_per_day: #1 test - False, #2 test - False;\n",
      "annual_co2_emissions_tonnes: #1 test - False, #2 test - False;\n"
     ]
    }
   ],
   "source": [
    "dataset = dataset.drop(dataset.columns[[0, 1, 2, 3, 4, 6]], axis=1)\n",
    "\n",
    "import scipy.stats as stats\n",
    "def kolm_smirn_check(dFrame, column):\n",
    "    ks_statistic, p_value = stats.kstest(dFrame[column], 'norm')\n",
    "    if p_value > 0.05: return True\n",
    "    return False\n",
    "\n",
    "def pearson_check(dFrame, column):\n",
    "    statistic, p_value = stats.normaltest(dFrame[column])\n",
    "    if p_value > 0.05: return True\n",
    "    return False\n",
    "\n",
    "print(\"#1 test - Kolmagorov-Smirnov test,\\n#2 test - Pearson test\\n\")\n",
    "for c in dataset.columns:\n",
    "    print('{0:<15}'.format(c + \":\"),f\"#1 test - {kolm_smirn_check(dataset, c)}, #2 test - {pearson_check(dataset, c)};\")\n"
   ]
  },
  {
   "cell_type": "code",
   "execution_count": 108,
   "metadata": {},
   "outputs": [
    {
     "data": {
      "text/html": [
       "<div>\n",
       "<style scoped>\n",
       "    .dataframe tbody tr th:only-of-type {\n",
       "        vertical-align: middle;\n",
       "    }\n",
       "\n",
       "    .dataframe tbody tr th {\n",
       "        vertical-align: top;\n",
       "    }\n",
       "\n",
       "    .dataframe thead th {\n",
       "        text-align: right;\n",
       "    }\n",
       "</style>\n",
       "<table border=\"1\" class=\"dataframe\">\n",
       "  <thead>\n",
       "    <tr style=\"text-align: right;\">\n",
       "      <th></th>\n",
       "      <th>ratio</th>\n",
       "      <th>gdp</th>\n",
       "      <th>population</th>\n",
       "      <th>sales_of_cigarettes_per_adult_per_day</th>\n",
       "      <th>annual_co2_emissions_tonnes</th>\n",
       "    </tr>\n",
       "  </thead>\n",
       "  <tbody>\n",
       "    <tr>\n",
       "      <th>ratio</th>\n",
       "      <td>1.000000</td>\n",
       "      <td>0.775971</td>\n",
       "      <td>0.137843</td>\n",
       "      <td>-0.047489</td>\n",
       "      <td>0.090640</td>\n",
       "    </tr>\n",
       "    <tr>\n",
       "      <th>gdp</th>\n",
       "      <td>0.775971</td>\n",
       "      <td>1.000000</td>\n",
       "      <td>0.226776</td>\n",
       "      <td>-0.183920</td>\n",
       "      <td>0.239701</td>\n",
       "    </tr>\n",
       "    <tr>\n",
       "      <th>population</th>\n",
       "      <td>0.137843</td>\n",
       "      <td>0.226776</td>\n",
       "      <td>1.000000</td>\n",
       "      <td>0.045570</td>\n",
       "      <td>0.955826</td>\n",
       "    </tr>\n",
       "    <tr>\n",
       "      <th>sales_of_cigarettes_per_adult_per_day</th>\n",
       "      <td>-0.047489</td>\n",
       "      <td>-0.183920</td>\n",
       "      <td>0.045570</td>\n",
       "      <td>1.000000</td>\n",
       "      <td>0.003515</td>\n",
       "    </tr>\n",
       "    <tr>\n",
       "      <th>annual_co2_emissions_tonnes</th>\n",
       "      <td>0.090640</td>\n",
       "      <td>0.239701</td>\n",
       "      <td>0.955826</td>\n",
       "      <td>0.003515</td>\n",
       "      <td>1.000000</td>\n",
       "    </tr>\n",
       "  </tbody>\n",
       "</table>\n",
       "</div>"
      ],
      "text/plain": [
       "                                          ratio       gdp  population  \\\n",
       "ratio                                  1.000000  0.775971    0.137843   \n",
       "gdp                                    0.775971  1.000000    0.226776   \n",
       "population                             0.137843  0.226776    1.000000   \n",
       "sales_of_cigarettes_per_adult_per_day -0.047489 -0.183920    0.045570   \n",
       "annual_co2_emissions_tonnes            0.090640  0.239701    0.955826   \n",
       "\n",
       "                                       sales_of_cigarettes_per_adult_per_day  \\\n",
       "ratio                                                              -0.047489   \n",
       "gdp                                                                -0.183920   \n",
       "population                                                          0.045570   \n",
       "sales_of_cigarettes_per_adult_per_day                               1.000000   \n",
       "annual_co2_emissions_tonnes                                         0.003515   \n",
       "\n",
       "                                       annual_co2_emissions_tonnes  \n",
       "ratio                                                     0.090640  \n",
       "gdp                                                       0.239701  \n",
       "population                                                0.955826  \n",
       "sales_of_cigarettes_per_adult_per_day                     0.003515  \n",
       "annual_co2_emissions_tonnes                               1.000000  "
      ]
     },
     "execution_count": 108,
     "metadata": {},
     "output_type": "execute_result"
    }
   ],
   "source": [
    "dataset.corr()"
   ]
  },
  {
   "cell_type": "code",
   "execution_count": null,
   "metadata": {},
   "outputs": [],
   "source": [
    "from sklearn.model_selection import train_test_split\n",
    "\n",
    "data = dataset.iloc[:,1:5]\n",
    "fact = dataset['ratio']\n",
    "X_train, X_test, Y_train, Y_test = train_test_split(data, fact,test_size = 0.25,random_state = 0)"
   ]
  }
 ],
 "metadata": {
  "kernelspec": {
   "display_name": "Python 3.9.7 64-bit",
   "language": "python",
   "name": "python3"
  },
  "language_info": {
   "codemirror_mode": {
    "name": "ipython",
    "version": 3
   },
   "file_extension": ".py",
   "mimetype": "text/x-python",
   "name": "python",
   "nbconvert_exporter": "python",
   "pygments_lexer": "ipython3",
   "version": "3.9.7"
  },
  "orig_nbformat": 4,
  "vscode": {
   "interpreter": {
    "hash": "81794d4967e6c3204c66dcd87b604927b115b27c00565d3d43f05ba2f3a2cb0d"
   }
  }
 },
 "nbformat": 4,
 "nbformat_minor": 2
}
